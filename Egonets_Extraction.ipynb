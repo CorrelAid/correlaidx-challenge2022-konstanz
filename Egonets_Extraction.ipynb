{
 "cells": [
  {
   "cell_type": "markdown",
   "id": "c9e08e64",
   "metadata": {},
   "source": [
    "# Extract egonets\n",
    "\n",
    "\n",
    "This Notebook uses address ids from southwestern German addresses found in the panama papers database in order to retrieve connected people as well as entities (companies, etc.). \n",
    "The data is stored in a Neo4j graph database, the data is retrieved via the python neo4j GraphDatabase driver. \n",
    "In the db, the graph pattern that is queried looks as follows:\n",
    "\n",
    "    (address)-(person)-(entity)\n",
    "    \n",
    "People can have different relations with the same entity. Each distinct relation is queried and stored in a pandas df."
   ]
  },
  {
   "cell_type": "code",
   "execution_count": 1,
   "id": "919fab5d",
   "metadata": {},
   "outputs": [],
   "source": [
    "#imports\n",
    "#create myconfig.py file with the credentials (uri, user, pwd) in order to access db\n",
    "import os\n",
    "import pandas as pd\n",
    "import numpy as np\n",
    "import csv\n",
    "from neo4j import GraphDatabase\n",
    "from myconfig import *"
   ]
  },
  {
   "cell_type": "code",
   "execution_count": 3,
   "id": "48c4066a",
   "metadata": {},
   "outputs": [],
   "source": [
    "class Neo4jConnection:\n",
    "    \n",
    "    '''\n",
    "    This class handles the connection to the Neo4j DBMS. \n",
    "    Source: https://towardsdatascience.com/neo4j-cypher-python-7a919a372be7\n",
    "    \n",
    "    Initialization variables \n",
    "    uri: URI used to connect to a database from the client\n",
    "    user: DBMS username\n",
    "    pwd: DBMS password\n",
    "    \n",
    "    Uri, user, and pwd are noted in a separate file called 'myconfig.py' and are imported.\n",
    "    \n",
    "    '''\n",
    "    \n",
    "    def __init__(self, uri, user, pwd):\n",
    "        self.__uri=uri\n",
    "        self.__user=user\n",
    "        self.__pwd=pwd\n",
    "        self.__driver = None\n",
    "        \n",
    "        # open driver\n",
    "        try:\n",
    "            self.__driver = GraphDatabase.driver(self.__uri, auth=(self.__user, self.__pwd))\n",
    "        except Exception as e:\n",
    "            print(\"Failed to create the driver:\", e)\n",
    "        \n",
    "    def close(self):\n",
    "        if self.__driver is not None:\n",
    "            self.__driver.close()\n",
    "            \n",
    "    def query(self, query, db=None):\n",
    "        #check if driver is initialized\n",
    "        assert self.__driver is not None, \"Driver not initialized!\"\n",
    "        session = None\n",
    "        response = None\n",
    "        #try session creation and run query\n",
    "        try: \n",
    "            session = self.__driver.session(database=db) if db is not None else self.__driver.session() \n",
    "            response = list(session.run(query))\n",
    "        except Exception as e:\n",
    "            print(\"Query failed:\", e)\n",
    "        finally: \n",
    "            if session is not None:\n",
    "                session.close()\n",
    "        return response"
   ]
  },
  {
   "cell_type": "code",
   "execution_count": 4,
   "id": "4a9482cb",
   "metadata": {},
   "outputs": [],
   "source": [
    "def import_address_ids(datafile):\n",
    "    with open(datafile) as fp:\n",
    "        reader = csv.reader(fp, delimiter=\",\", quotechar='\"')\n",
    "        data = [row for row in reader] # import rows\n",
    "        flat_list = [item for sublist in data for item in sublist] # create list of vals from list of list with vals\n",
    "        return flat_list"
   ]
  },
  {
   "cell_type": "code",
   "execution_count": 5,
   "id": "6407f55e",
   "metadata": {},
   "outputs": [],
   "source": [
    "# change function to begin egonet search with people, not addresses\n",
    "def construct_query_egonets(node_id):\n",
    "    query = f\"\"\"\n",
    "            MATCH (a:Address {{node_id: {node_id}}})-[r1]-(o:Officer)-[r2]-(u) \n",
    "            RETURN o.node_id as officer_node_id, o.name as officer, \n",
    "                r1.link as rel_location_officer, \n",
    "                a.node_id as local_address_id, a.address as local_address,\n",
    "                r2.link as rel_officer_u,\n",
    "                u.node_id as u_node_id, u.name as u_name, labels(u) as u_labels\n",
    "            \"\"\"\n",
    "    return query"
   ]
  },
  {
   "cell_type": "code",
   "execution_count": 10,
   "id": "c117115a",
   "metadata": {},
   "outputs": [],
   "source": [
    "def get_egonets(address_ids, cols):\n",
    "    egonets = pd.DataFrame(columns=cols) #create empty pandas df\n",
    "    c = Neo4jConnection(uri, user, pwd) #initialize Connection object\n",
    "    for address_id in address_ids: #for each address id \n",
    "        q = construct_query_egonets(address_id) #insert id into query string and save as query\n",
    "        rows = pd.DataFrame([dict(_) for _ in c.query(q, db='neo4j')]) # run query in session and retrieve rows as pandas df\n",
    "        egonets=pd.concat([egonets, rows]) # add rows to egonets df\n",
    "    c.close()\n",
    "    egonets = egonets.reset_index() # reset egonets index\n",
    "    return egonets # return pandas df with all egonets found\n"
   ]
  },
  {
   "cell_type": "code",
   "execution_count": 7,
   "id": "f7f591ca",
   "metadata": {},
   "outputs": [],
   "source": [
    "# import address ids\n",
    "l = import_address_ids(\"data/df_sus_DE.csv\")\n",
    "\n",
    "# retrieve egonet rows\n",
    "head = ['officer_node_id', 'officer', 'rel_location_officer', 'local_address_id', 'local_address', 'rel_officer_u', 'u_node_id', 'u_name', 'u_labels']\n",
    "dd = get_egonets(l, head)\n",
    "\n",
    "# export distinct ids from people and entities found in queries as csv\n",
    "people = dd[['officer_node_id', 'officer']].drop_duplicates().reset_index(drop=True)\n",
    "entities = dd[[\"u_node_id\", \"u_name\"]].drop_duplicates().reset_index(drop=True)\n",
    "headers = [\"node_id\", \"name\"]\n",
    "people.columns = headers\n",
    "entities.columns = headers\n",
    "fin = pd.concat([people, entities]).reset_index(drop=True)\n",
    "prefix = \"https://offshoreleaks.icij.org/nodes/\"\n",
    "fin[\"url\"] = fin[\"node_id\"].apply(lambda y: prefix+str(y))\n",
    "fin.to_csv(\"data/node_ids.csv\", index=False)"
   ]
  }
 ],
 "metadata": {
  "kernelspec": {
   "display_name": "ppvenv",
   "language": "python",
   "name": "ppvenv"
  },
  "language_info": {
   "codemirror_mode": {
    "name": "ipython",
    "version": 3
   },
   "file_extension": ".py",
   "mimetype": "text/x-python",
   "name": "python",
   "nbconvert_exporter": "python",
   "pygments_lexer": "ipython3",
   "version": "3.7.5"
  }
 },
 "nbformat": 4,
 "nbformat_minor": 5
}
